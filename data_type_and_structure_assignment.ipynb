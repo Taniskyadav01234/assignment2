{
  "nbformat": 4,
  "nbformat_minor": 0,
  "metadata": {
    "colab": {
      "provenance": []
    },
    "kernelspec": {
      "name": "python3",
      "display_name": "Python 3"
    },
    "language_info": {
      "name": "python"
    }
  },
  "cells": [
    {
      "cell_type": "code",
      "source": [],
      "metadata": {
        "id": "MycUQdERKIBN"
      },
      "execution_count": null,
      "outputs": []
    },
    {
      "cell_type": "markdown",
      "source": [
        "### 1. **What are data structures, and why are they important?**\n",
        "\n",
        "Data structures are ways of organizing and storing data so we can use it efficiently. They're important because they help us manage and access data quickly and cleanly — like using shelves to store books instead of tossing them on the floor."
      ],
      "metadata": {
        "id": "_8zoNfXZKKoH"
      }
    },
    {
      "cell_type": "markdown",
      "source": [],
      "metadata": {
        "id": "5WW2YNqsKGUM"
      }
    },
    {
      "cell_type": "markdown",
      "source": [
        "---\n",
        "\n",
        "### 2. **Explain the difference between mutable and immutable data types with examples.**\n",
        "\n",
        "* **Mutable**: Can be changed after creation. Example: list\n",
        "\n",
        "  ```python\n",
        "  my_list = [1, 2]\n",
        "  my_list.append(3)\n",
        "  my_list =[1,2,3]\n",
        "   # Now it’s [1, 2, 3]\n",
        "  ```\n",
        "\n",
        "* **Immutable**: Cannot be changed once made. Example: tuple, string\n",
        "\n",
        "  ```python\n",
        "  my_str = \"hello\"\n",
        "  # my_str[0] = \"y\" → This gives an error\n",
        "  ```\n",
        "\n",
        "---\n",
        "\n"
      ],
      "metadata": {
        "id": "kyPCWLRJKRWl"
      }
    },
    {
      "cell_type": "markdown",
      "source": [
        "### 3. **What are the main differences between lists and tuples in Python?**\n",
        "\n",
        "* `list` is **mutable** (you can change it), `tuple` is **immutable**\n",
        "* `list` uses more memory, `tuple` is faster and uses less space\n",
        "* Tuples are better when you don’t want data to change\n",
        "\n",
        "---\n"
      ],
      "metadata": {
        "id": "F_pq-9C-KkMB"
      }
    },
    {
      "cell_type": "markdown",
      "source": [
        " 4. **Describe how dictionaries store data.**\n",
        "\n",
        "Dictionaries store data in **key-value pairs**. Each key points to a specific value.\n",
        "\n",
        "```python\n",
        "student = {\"name\": \"TANISK\", \"age\": 23}\n",
        "```\n",
        "so, here `name` is key and `TANISK` is value.\n",
        "\n",
        "---\n"
      ],
      "metadata": {
        "id": "6uoH12lIKpvQ"
      }
    },
    {
      "cell_type": "markdown",
      "source": [
        " 5. **Why might you use a set instead of a list in Python?**\n",
        "\n",
        "Because **sets do not allow duplicates**, and they are **faster** for checking if an item exists.\n"
      ],
      "metadata": {
        "id": "zKO0_9j2K8UG"
      }
    },
    {
      "cell_type": "markdown",
      "source": [
        "### 6. **What is a string in Python, and how is it different from a list?**\n",
        "\n",
        "A **string** is a sequence of characters. A **list** can contain any type of data.\n",
        "\n",
        "* String: `\"hello\"`\n",
        "* List: `[\"hello\", 5, True]`\n",
        "\n",
        "Strings are **immutable**, but lists are **mutable**.\n",
        "\n",
        "---\n"
      ],
      "metadata": {
        "id": "FCskgxdRLdyC"
      }
    },
    {
      "cell_type": "markdown",
      "source": [
        "### 7. **How do tuples ensure data integrity in Python?**\n",
        "\n",
        "Tuples **cannot be changed**, so the data stays safe and unchanged — good for things like coordinates or settings.\n",
        "\n",
        "---\n"
      ],
      "metadata": {
        "id": "CkeaImt0LsTc"
      }
    },
    {
      "cell_type": "markdown",
      "source": [
        "### 8. **What is a hash table, and how does it relate to dictionaries in Python?**\n",
        "\n",
        "A **hash table** is a way of storing data using a key that’s converted to an index. In Python, dictionaries use a hash table to quickly find values by their key.\n",
        "\n",
        "---\n"
      ],
      "metadata": {
        "id": "byWscFn1L1f9"
      }
    },
    {
      "cell_type": "markdown",
      "source": [
        "### 9. **Can lists contain different data types in Python?**\n",
        "\n",
        "Yes! A list can hold strings, numbers, even other lists.\n",
        "\n",
        "```python\n",
        "mixed = [1, \"hello\", True]\n",
        "```\n",
        "\n",
        "---\n"
      ],
      "metadata": {
        "id": "bczxzO5UN9EQ"
      }
    },
    {
      "cell_type": "markdown",
      "source": [
        "### 10. **Explain why strings are immutable in Python.**\n",
        "\n",
        "Strings are **immutable** to make them **safe and efficient**. Once created, they can’t be changed, which prevents accidental errors.\n",
        "\n",
        "---\n",
        "\n"
      ],
      "metadata": {
        "id": "G12BcUX8OING"
      }
    },
    {
      "cell_type": "markdown",
      "source": [
        "\n",
        "### 11. **What advantages do dictionaries offer over lists for certain tasks?**\n",
        "\n",
        "Dictionaries let you find data **faster** using keys. You don’t need to know the position of the value, just the key.\n",
        "\n",
        "---\n"
      ],
      "metadata": {
        "id": "cbIl00MSOZqq"
      }
    },
    {
      "cell_type": "markdown",
      "source": [
        "\n",
        "### 12. **How do sets handle duplicate values in Python?**\n",
        "\n",
        "Sets **automatically remove duplicates**.\n",
        "\n",
        "```python\n",
        "a = set([1, 2, 2, 3])\n",
        "a =  # Result: {1, 2, 3}\n",
        "```\n",
        "\n"
      ],
      "metadata": {
        "id": "UyXLsaadOk-z"
      }
    },
    {
      "cell_type": "markdown",
      "source": [
        "\n",
        "### 13. **Describe a scenario where using a tuple would be preferable over a list.**\n",
        "\n",
        "When storing a adhar card number or savings or current bank account number,\n",
        " or person’s birth date:\n",
        "\n",
        "```python\n",
        "dob = (1995, 11, 26)  # This should not change\n",
        "```\n",
        "\n",
        "---\n",
        "\n",
        "### 14. **How does the “in” keyword work differently for lists and dictionaries?**\n",
        "\n",
        "* For **lists**, it checks if a value exists:\n",
        "  `\"apple\" in [\"apple\", \"banana\"]` → True\n",
        "* For **dictionaries**, it checks if a **key** exists:\n",
        "  `\"name\" in {\"name\": \"Niyati\"}` → True\n",
        "\n",
        "---\n",
        "\n",
        "### 15. **Can you modify the elements of a tuple? Explain why or why not.**\n",
        "\n",
        "No, you **cannot**. Tuples are **immutable**. Once created, the elements can’t be changed.\n",
        "\n",
        "---\n",
        "\n",
        "### 16. **What is a nested dictionary, and give an example of its use case.**\n",
        "\n",
        "A dictionary **inside another dictionary**.\n",
        "\n",
        "```python\n",
        "family = {\"child1\": {\"name\": \"Niyati\", \"age\": 3}}\n",
        "```\n",
        "\n",
        "Useful for storing related data in layers.\n",
        "\n",
        "---\n",
        "\n",
        "### 17. **Describe the time complexity of accessing elements in a dictionary.**\n",
        "\n",
        "It’s **O(1)** (constant time), meaning accessing any element is very fast and does **not depend** on the size of the dictionary.#took help from google to answer this\n",
        "\n",
        "Example:\n",
        "\n",
        "```python\n",
        "my_dict = {'a': 10, 'b': 20, 'c': 30}\n",
        "print(my_dict['b'])  # Output: 20\n",
        "```\n",
        "\n",
        "---\n",
        "\n",
        "### 18. **In what situations are lists preferred over dictionaries?**\n",
        "\n",
        "When:\n",
        "\n",
        "* Order matters\n",
        "* You don’t need key-value pairs\n",
        "* You’re working with simple collections of items\n",
        "\n",
        "**Lists** are better when you only need values and order matters.\n",
        "Example:\n",
        "\n",
        "```python\n",
        "fruits = [\"apple\", \"banana\", \"mango\"]\n",
        "\n",
        "print(fruits[1])  # Output: banana\n",
        "```\n",
        " Use a **list** when you don’t need a key, just want to store items in order.\n",
        "\n",
        "---\n",
        "\n",
        "### 19. **Why are dictionaries considered unordered, and how does that affect data retrieval?**\n",
        "\n",
        "Before Python 3.7, dictionaries didn’t keep the order of items. Now they do, but we still treat them as **unordered** because we **access by key**, not by position.\n",
        "\n",
        "---\n",
        "\n",
        "### 20. **Explain the difference between a list and a dictionary in terms of data retrieval.**\n",
        "\n",
        "* **List**: You find data by **index** → `list[0]`\n",
        "* **Dictionary**: You find data by **key** → `dict[\"name\"]`\n"
      ],
      "metadata": {
        "id": "_K1ZqdrnO4IO"
      }
    },
    {
      "cell_type": "markdown",
      "source": [
        "PRACTICAL QUESTIONS:::::::::::::::::::::::::::::::::::::::::::::::::::::::::::::::::"
      ],
      "metadata": {
        "id": "IH0kFeJMQw2i"
      }
    },
    {
      "cell_type": "code",
      "source": [
        "#''' 1. Write a code to create a string with your name and print it\n",
        "name = \"tanisk\"\n",
        "surname = \"yadav\"\n",
        "final = (name + \" \" + surname)\n",
        "print(final)"
      ],
      "metadata": {
        "colab": {
          "base_uri": "https://localhost:8080/"
        },
        "id": "0MOIPlO9Q1VU",
        "outputId": "e24bdc12-1278-4597-878f-7e4a5c105bad"
      },
      "execution_count": 5,
      "outputs": [
        {
          "output_type": "stream",
          "name": "stdout",
          "text": [
            "tanisk yadav\n"
          ]
        }
      ]
    },
    {
      "cell_type": "code",
      "source": [
        "#2 Write a code to find the length of the string \"Hello World\"\n",
        "str1 = \"Hello World\"\n",
        "length = len(str1)\n",
        "length"
      ],
      "metadata": {
        "colab": {
          "base_uri": "https://localhost:8080/"
        },
        "id": "3rBNzJS7SmZv",
        "outputId": "c12d6425-f429-423e-d2a5-a8cb4e6dbe1c"
      },
      "execution_count": 6,
      "outputs": [
        {
          "output_type": "execute_result",
          "data": {
            "text/plain": [
              "11"
            ]
          },
          "metadata": {},
          "execution_count": 6
        }
      ]
    },
    {
      "cell_type": "code",
      "source": [
        "#3. Write a code to slice the first 3 characters from the string \"Python Programming\"\n",
        "text = \"Python Programming\"\n",
        "sliced = (text[0:3])\n",
        "sliced"
      ],
      "metadata": {
        "colab": {
          "base_uri": "https://localhost:8080/",
          "height": 36
        },
        "id": "j_tBRRysS2UK",
        "outputId": "ac1bc98f-3edb-4298-e76c-24fc4905b8e7"
      },
      "execution_count": 7,
      "outputs": [
        {
          "output_type": "execute_result",
          "data": {
            "text/plain": [
              "'Pyt'"
            ],
            "application/vnd.google.colaboratory.intrinsic+json": {
              "type": "string"
            }
          },
          "metadata": {},
          "execution_count": 7
        }
      ]
    },
    {
      "cell_type": "code",
      "source": [
        "#4. Write a code to convert the string \"hello\" to uppercase\n",
        "str = \"hello\"\n",
        "str.upper()"
      ],
      "metadata": {
        "colab": {
          "base_uri": "https://localhost:8080/",
          "height": 36
        },
        "id": "xTj9pM_gS-Ia",
        "outputId": "3e8608bc-91d5-49bb-941d-2b5032618713"
      },
      "execution_count": 8,
      "outputs": [
        {
          "output_type": "execute_result",
          "data": {
            "text/plain": [
              "'HELLO'"
            ],
            "application/vnd.google.colaboratory.intrinsic+json": {
              "type": "string"
            }
          },
          "metadata": {},
          "execution_count": 8
        }
      ]
    },
    {
      "cell_type": "code",
      "source": [
        "#5. Write a code to replace the word \"apple\" with \"orange\" in the string \"I like apple\"\n",
        "\n",
        "str = \"i like apple\"\n",
        "str.replace(\"apple\",\"orange\")"
      ],
      "metadata": {
        "colab": {
          "base_uri": "https://localhost:8080/",
          "height": 36
        },
        "id": "aniQuJTPTRki",
        "outputId": "0da33b0e-9930-49e1-ee89-9f32535cf3b7"
      },
      "execution_count": 10,
      "outputs": [
        {
          "output_type": "execute_result",
          "data": {
            "text/plain": [
              "'i like orange'"
            ],
            "application/vnd.google.colaboratory.intrinsic+json": {
              "type": "string"
            }
          },
          "metadata": {},
          "execution_count": 10
        }
      ]
    },
    {
      "cell_type": "code",
      "source": [
        "#6. Write a code to create a list with numbers 1 to 5 and print it\n",
        "\n",
        "list  = [1,2,3,4,5]\n",
        "list"
      ],
      "metadata": {
        "colab": {
          "base_uri": "https://localhost:8080/"
        },
        "id": "MADVU78ITiMN",
        "outputId": "61c182d9-6541-4fb8-9656-676577433cda"
      },
      "execution_count": 12,
      "outputs": [
        {
          "output_type": "execute_result",
          "data": {
            "text/plain": [
              "[1, 2, 3, 4, 5]"
            ]
          },
          "metadata": {},
          "execution_count": 12
        }
      ]
    },
    {
      "cell_type": "code",
      "source": [
        "#7. Write a code to append the number 10 to the list [1, 2, 3, 4]\n",
        "list=  [1,2,3,4,4,5,6]\n",
        "list.append(10)\n",
        "list"
      ],
      "metadata": {
        "colab": {
          "base_uri": "https://localhost:8080/"
        },
        "id": "ApITpTfSWuxS",
        "outputId": "7f296206-40fb-4380-80ae-431a9b245ba5"
      },
      "execution_count": 14,
      "outputs": [
        {
          "output_type": "execute_result",
          "data": {
            "text/plain": [
              "[1, 2, 3, 4, 4, 5, 6, 10]"
            ]
          },
          "metadata": {},
          "execution_count": 14
        }
      ]
    },
    {
      "cell_type": "code",
      "source": [
        "#8.  Write a code to remove the number 3 from the list [1, 2, 3, 4, 5]\n",
        "list=  [1,2,3,4,5,6]\n",
        "list.remove(3)\n",
        "list"
      ],
      "metadata": {
        "colab": {
          "base_uri": "https://localhost:8080/"
        },
        "id": "MazBjqQYXD9K",
        "outputId": "19df3924-c280-4871-f968-1fd4c3b6a609"
      },
      "execution_count": 18,
      "outputs": [
        {
          "output_type": "execute_result",
          "data": {
            "text/plain": [
              "[1, 2, 4, 5, 6]"
            ]
          },
          "metadata": {},
          "execution_count": 18
        }
      ]
    },
    {
      "cell_type": "code",
      "source": [
        "#9. Write a code to access the second element in the list ['a', 'b', 'c', 'd']\n",
        "list = ['a', 'b', 'c', 'd']\n",
        "list[1]"
      ],
      "metadata": {
        "colab": {
          "base_uri": "https://localhost:8080/",
          "height": 36
        },
        "id": "Imq3TV2mXUmC",
        "outputId": "edda4426-fca2-4377-bfb5-a1d6099fa4ad"
      },
      "execution_count": 20,
      "outputs": [
        {
          "output_type": "execute_result",
          "data": {
            "text/plain": [
              "'b'"
            ],
            "application/vnd.google.colaboratory.intrinsic+json": {
              "type": "string"
            }
          },
          "metadata": {},
          "execution_count": 20
        }
      ]
    },
    {
      "cell_type": "code",
      "source": [
        " #10.Write a code to reverse the list [10, 20, 30, 40, 50]\n",
        " list = [10, 20, 30, 40, 50]\n",
        " list.reverse()\n",
        "list"
      ],
      "metadata": {
        "colab": {
          "base_uri": "https://localhost:8080/"
        },
        "id": "KBvjttoqXpYI",
        "outputId": "1c383f82-6419-4954-d1b8-22da50f5e821"
      },
      "execution_count": 22,
      "outputs": [
        {
          "output_type": "execute_result",
          "data": {
            "text/plain": [
              "[50, 40, 30, 20, 10]"
            ]
          },
          "metadata": {},
          "execution_count": 22
        }
      ]
    },
    {
      "cell_type": "code",
      "source": [
        "#11. Write a code to create a tuple with the elements 100, 200, 300 and print it.\n",
        "\n",
        "tup = (100,200,300)\n",
        "tup\n"
      ],
      "metadata": {
        "colab": {
          "base_uri": "https://localhost:8080/"
        },
        "id": "FnKhIyFdYlzV",
        "outputId": "74220c37-b4eb-44d7-bd10-ab71e08f17f7"
      },
      "execution_count": 25,
      "outputs": [
        {
          "output_type": "execute_result",
          "data": {
            "text/plain": [
              "(100, 200, 300)"
            ]
          },
          "metadata": {},
          "execution_count": 25
        }
      ]
    },
    {
      "cell_type": "code",
      "source": [
        "# 12. Write a code to access the second-to-last element of the tuple ('red', 'green', 'blue', 'yellow').\n",
        "tup1 = ('red', 'green', 'blue', 'yellow')\n",
        "tup1[-2]"
      ],
      "metadata": {
        "colab": {
          "base_uri": "https://localhost:8080/",
          "height": 36
        },
        "id": "zRS3o_IYZBOS",
        "outputId": "49b69e8e-d502-4494-8bbc-956e51106c80"
      },
      "execution_count": 28,
      "outputs": [
        {
          "output_type": "execute_result",
          "data": {
            "text/plain": [
              "'blue'"
            ],
            "application/vnd.google.colaboratory.intrinsic+json": {
              "type": "string"
            }
          },
          "metadata": {},
          "execution_count": 28
        }
      ]
    },
    {
      "cell_type": "code",
      "source": [
        "# 13. Write a code to find the minimum number in the tuple (10, 20, 5, 15).\n",
        "tup2 = (10, 20, 5, 15)\n",
        "print(min(tup2))"
      ],
      "metadata": {
        "colab": {
          "base_uri": "https://localhost:8080/"
        },
        "id": "0A-roIKUZS8x",
        "outputId": "14958828-1561-42cc-a0d1-664b1b2b296b"
      },
      "execution_count": 30,
      "outputs": [
        {
          "output_type": "stream",
          "name": "stdout",
          "text": [
            "5\n"
          ]
        }
      ]
    },
    {
      "cell_type": "code",
      "source": [
        "# 14. Write a code to find the index of the element \"cat\" in the tuple ('dog', 'cat', 'rabbit').\n",
        "tup3 = ('dog', 'cat', 'rabbit')\n",
        "tup3.index(\"cat\")\n"
      ],
      "metadata": {
        "colab": {
          "base_uri": "https://localhost:8080/"
        },
        "id": "8oaj9WPRaOYX",
        "outputId": "0486206f-6075-4d9c-a23a-f889887d19a1"
      },
      "execution_count": 33,
      "outputs": [
        {
          "output_type": "execute_result",
          "data": {
            "text/plain": [
              "1"
            ]
          },
          "metadata": {},
          "execution_count": 33
        }
      ]
    },
    {
      "cell_type": "code",
      "source": [
        "# 15. Write a code to create a tuple containing three different fruits and check if \"kiwi\" is in it'''\n",
        "tup4 =  (\"apple\", \"banana\", \"kiwi\")\n",
        "if  \"kiwi\" in tup4:\n",
        "  print(\"yes kiwi is in the tuple\")\n",
        "else:\n",
        "  print(\"no its not in the tuple\")"
      ],
      "metadata": {
        "colab": {
          "base_uri": "https://localhost:8080/"
        },
        "id": "9OKqNrndawU0",
        "outputId": "4e57f2b1-d2b6-4d4e-f510-65a00c501a2a"
      },
      "execution_count": 40,
      "outputs": [
        {
          "output_type": "stream",
          "name": "stdout",
          "text": [
            "yes kiwi is in the tuple\n"
          ]
        }
      ]
    },
    {
      "cell_type": "code",
      "source": [
        "#16. Write a code to create a set with the elements 'a', 'b', 'c' and print it.\n",
        "set1 = {'a','b','c'}\n",
        "set1"
      ],
      "metadata": {
        "colab": {
          "base_uri": "https://localhost:8080/"
        },
        "id": "A7JpalvFbJeY",
        "outputId": "3fdfef82-2272-4f8c-f2c8-117b94418600"
      },
      "execution_count": 46,
      "outputs": [
        {
          "output_type": "execute_result",
          "data": {
            "text/plain": [
              "{'a', 'b', 'c'}"
            ]
          },
          "metadata": {},
          "execution_count": 46
        }
      ]
    },
    {
      "cell_type": "code",
      "source": [
        "type(set1)"
      ],
      "metadata": {
        "colab": {
          "base_uri": "https://localhost:8080/"
        },
        "id": "dEOK5GJDb5Gw",
        "outputId": "50e7b311-8986-46a3-f217-1b1bc2926de0"
      },
      "execution_count": 47,
      "outputs": [
        {
          "output_type": "execute_result",
          "data": {
            "text/plain": [
              "set"
            ]
          },
          "metadata": {},
          "execution_count": 47
        }
      ]
    },
    {
      "cell_type": "code",
      "source": [
        "# 17. Write a code to clear all elements from the set {1, 2, 3, 4, 5}.\n",
        "set2 =  {1, 2, 3, 4, 5}\n",
        "set2.clear()\n",
        "set2"
      ],
      "metadata": {
        "colab": {
          "base_uri": "https://localhost:8080/"
        },
        "id": "SX3ORnTGb7Ak",
        "outputId": "202660b8-a0bd-400d-d623-79e737114cbe"
      },
      "execution_count": 51,
      "outputs": [
        {
          "output_type": "execute_result",
          "data": {
            "text/plain": [
              "set()"
            ]
          },
          "metadata": {},
          "execution_count": 51
        }
      ]
    },
    {
      "cell_type": "code",
      "source": [
        "# 18. Write a code to remove the element 4 from the set {1, 2, 3, 4}.\n",
        "set3 =  {1, 2, 3, 4}\n",
        "set3.remove(4)\n",
        "set3"
      ],
      "metadata": {
        "colab": {
          "base_uri": "https://localhost:8080/"
        },
        "id": "DWOKTWn4cfTZ",
        "outputId": "f6f0615d-37e6-4bb1-adca-574bf8020c11"
      },
      "execution_count": 54,
      "outputs": [
        {
          "output_type": "execute_result",
          "data": {
            "text/plain": [
              "{1, 2, 3}"
            ]
          },
          "metadata": {},
          "execution_count": 54
        }
      ]
    },
    {
      "cell_type": "code",
      "source": [
        "# 19. Write a code to find the union of two sets {1, 2, 3} and {3, 4, 5}.\n",
        "set4 = {1, 2, 3}\n",
        "set5 = {3, 4, 5}\n",
        "set4.union(set5)"
      ],
      "metadata": {
        "colab": {
          "base_uri": "https://localhost:8080/"
        },
        "id": "LKHzLjSYctJB",
        "outputId": "3b6a8df8-8d71-4690-d5fd-8eb33e31a61a"
      },
      "execution_count": 55,
      "outputs": [
        {
          "output_type": "execute_result",
          "data": {
            "text/plain": [
              "{1, 2, 3, 4, 5}"
            ]
          },
          "metadata": {},
          "execution_count": 55
        }
      ]
    },
    {
      "cell_type": "code",
      "source": [
        " #20.Write a code to find the intersection of two sets {1, 2, 3} and {2, 3, 4}\n",
        "set4 = {1, 2, 3}\n",
        "set5 = {3, 4, 5}\n",
        "set4&set5"
      ],
      "metadata": {
        "colab": {
          "base_uri": "https://localhost:8080/"
        },
        "id": "_gMI0oIhdBUf",
        "outputId": "d58aa1c2-88a8-4993-e320-7a26faefaa17"
      },
      "execution_count": 59,
      "outputs": [
        {
          "output_type": "execute_result",
          "data": {
            "text/plain": [
              "{3}"
            ]
          },
          "metadata": {},
          "execution_count": 59
        }
      ]
    },
    {
      "cell_type": "code",
      "source": [
        "#21. Write a code to create a dictionary with the keys \"name\", \"age\", and \"city\", and print it\n",
        "dictA= {\"name\":\"tanisk\",\"age\":23,\"city\":\"dehradun\"}\n",
        "dictA"
      ],
      "metadata": {
        "colab": {
          "base_uri": "https://localhost:8080/"
        },
        "id": "7w_upcIldiWr",
        "outputId": "65f4eefc-3fcc-4ff8-c0be-bdf80d788657"
      },
      "execution_count": 61,
      "outputs": [
        {
          "output_type": "execute_result",
          "data": {
            "text/plain": [
              "{'name': 'tanisk', 'age': 23, 'city': 'dehradun'}"
            ]
          },
          "metadata": {},
          "execution_count": 61
        }
      ]
    },
    {
      "cell_type": "code",
      "source": [
        "for keys,values in dictA.items():\n",
        "  print(keys,\":\",values)\n"
      ],
      "metadata": {
        "colab": {
          "base_uri": "https://localhost:8080/"
        },
        "id": "CG-kNBqzd3-Q",
        "outputId": "ced279cb-e26f-49ae-e346-c7268317913e"
      },
      "execution_count": 63,
      "outputs": [
        {
          "output_type": "stream",
          "name": "stdout",
          "text": [
            "name : tanisk\n",
            "age : 23\n",
            "city : dehradun\n"
          ]
        }
      ]
    },
    {
      "cell_type": "code",
      "source": [
        "# 22. Write a code to add a new key-value pair \"country\": \"USA\" to the dictionary {'name': 'John', 'age': 25}.\n",
        "dict3 =  {'name': 'John', 'age': 25}\n",
        "dict3.update({\"country\" : \"usa\"})\n",
        "\n",
        "dict3"
      ],
      "metadata": {
        "colab": {
          "base_uri": "https://localhost:8080/"
        },
        "id": "1NIm9ojaejry",
        "outputId": "b36af099-8fb1-4daf-dc16-3725d50fe115"
      },
      "execution_count": 73,
      "outputs": [
        {
          "output_type": "execute_result",
          "data": {
            "text/plain": [
              "{'name': 'John', 'age': 25, 'country': 'usa'}"
            ]
          },
          "metadata": {},
          "execution_count": 73
        }
      ]
    },
    {
      "cell_type": "code",
      "source": [
        "#23. Write a code to access the value associated with the key \"name\" in the dictionary {'name': 'Alice', 'age': 30}\n",
        "dict5 = {'name': 'Alice', 'age': 30}\n",
        "dict5[\"name\"]\n",
        "print(dict5[\"name\"])"
      ],
      "metadata": {
        "colab": {
          "base_uri": "https://localhost:8080/"
        },
        "id": "jm76E0y3fDsC",
        "outputId": "1676f57b-4c83-4941-f791-e5afaf977d1c"
      },
      "execution_count": 80,
      "outputs": [
        {
          "output_type": "stream",
          "name": "stdout",
          "text": [
            "Alice\n"
          ]
        }
      ]
    },
    {
      "cell_type": "code",
      "source": [
        "# 24. Write a code to remove the key \"age\" from the dictionary  {'name': 'Bob', 'age': 22, 'city': 'New York'}.\n",
        "dict6 =  {'name': 'Bob', 'age': 22, 'city': 'New York'}\n",
        "dict6.pop(\"age\")\n",
        "dict6"
      ],
      "metadata": {
        "colab": {
          "base_uri": "https://localhost:8080/"
        },
        "id": "6LK5D48bf3l7",
        "outputId": "5e247c94-4f3a-4674-9535-f02486874f3f"
      },
      "execution_count": 81,
      "outputs": [
        {
          "output_type": "execute_result",
          "data": {
            "text/plain": [
              "{'name': 'Bob', 'city': 'New York'}"
            ]
          },
          "metadata": {},
          "execution_count": 81
        }
      ]
    },
    {
      "cell_type": "code",
      "source": [
        " #25. Write a code to check if the key \"city\" exists in the dictionary {'name': 'Alice', 'city': 'Paris'}\n",
        "dict7 = {'name': 'Alice', 'city': 'Paris'}\n",
        "if \"city\" in dict7:\n",
        "  print(\"yes\")\n",
        "else:\n",
        "  print(\"no\")\n"
      ],
      "metadata": {
        "colab": {
          "base_uri": "https://localhost:8080/"
        },
        "id": "B6wS7nCggn1n",
        "outputId": "bf2f1dcb-dc35-48fe-ecc4-dc9135f02c27"
      },
      "execution_count": 85,
      "outputs": [
        {
          "output_type": "stream",
          "name": "stdout",
          "text": [
            "yes\n"
          ]
        }
      ]
    },
    {
      "cell_type": "code",
      "source": [
        "#26. Write a code to create a list, a tuple, and a dictionary, and print them all.\n",
        "list25 =[1,2,\"tanisk\", 2.5, 3+5j]\n",
        "tup25 = tuple(list25)\n",
        "dict25 = {\"name\":\"tanisk\",\"age\":23,\"city\":\"dehradun\"}\n",
        "print(list25)\n",
        "print(tup25)\n",
        "print(dict25)\n"
      ],
      "metadata": {
        "colab": {
          "base_uri": "https://localhost:8080/"
        },
        "id": "tO_Jo45OinN6",
        "outputId": "c96cd50c-8ddf-474a-9128-642a3be3b8d0"
      },
      "execution_count": 86,
      "outputs": [
        {
          "output_type": "stream",
          "name": "stdout",
          "text": [
            "[1, 2, 'tanisk', 2.5, (3+5j)]\n",
            "(1, 2, 'tanisk', 2.5, (3+5j))\n",
            "{'name': 'tanisk', 'age': 23, 'city': 'dehradun'}\n"
          ]
        }
      ]
    },
    {
      "cell_type": "code",
      "source": [
        "# 27. Write a code to create a list of 5 random numbers between 1 and 100, sort it in ascending order, and print the  result.(replaced)\n",
        "import random\n",
        "numb = random.sample(range(1,100),5)\n",
        "print(numb)\n",
        "numb.sort()\n",
        "numb\n"
      ],
      "metadata": {
        "colab": {
          "base_uri": "https://localhost:8080/"
        },
        "id": "G9l3yQhYjtVN",
        "outputId": "5918ba3f-4764-46c9-a2c0-038e276750a1"
      },
      "execution_count": 89,
      "outputs": [
        {
          "output_type": "stream",
          "name": "stdout",
          "text": [
            "[58, 28, 56, 54, 91]\n"
          ]
        },
        {
          "output_type": "execute_result",
          "data": {
            "text/plain": [
              "[28, 54, 56, 58, 91]"
            ]
          },
          "metadata": {},
          "execution_count": 89
        }
      ]
    },
    {
      "cell_type": "code",
      "source": [
        "#28. Write a code to create a list with strings and print the element at the third index.\n",
        "list26 = (\"apple\",\"banana\",\"mango\",\"orange\")\n",
        "list26[2]"
      ],
      "metadata": {
        "colab": {
          "base_uri": "https://localhost:8080/",
          "height": 36
        },
        "id": "qqQdGopkmZ57",
        "outputId": "63e151c4-edbf-4430-901b-76097b74529d"
      },
      "execution_count": 90,
      "outputs": [
        {
          "output_type": "execute_result",
          "data": {
            "text/plain": [
              "'mango'"
            ],
            "application/vnd.google.colaboratory.intrinsic+json": {
              "type": "string"
            }
          },
          "metadata": {},
          "execution_count": 90
        }
      ]
    },
    {
      "cell_type": "code",
      "source": [
        " #29. Write a code to combine two dictionaries into one and print the result.\n",
        "dict27 =  {'a': 1, 'b': 2}\n",
        "dict28 = {'c': 3, 'd': 4}\n",
        "dict27.update(dict28)\n",
        "dict27"
      ],
      "metadata": {
        "colab": {
          "base_uri": "https://localhost:8080/"
        },
        "id": "o3S0EDjnnbSl",
        "outputId": "7c8232d6-9a3d-4450-896c-578ffe225963"
      },
      "execution_count": 91,
      "outputs": [
        {
          "output_type": "execute_result",
          "data": {
            "text/plain": [
              "{'a': 1, 'b': 2, 'c': 3, 'd': 4}"
            ]
          },
          "metadata": {},
          "execution_count": 91
        }
      ]
    },
    {
      "cell_type": "code",
      "source": [
        "#30. Write a code to convert a list of strings into a set\n",
        "string_k = (\"apple\", \"mango\", \"owl\")\n",
        "set_string = set(string_k)\n",
        "print(set_string)"
      ],
      "metadata": {
        "colab": {
          "base_uri": "https://localhost:8080/"
        },
        "id": "eucgD4FBnqeb",
        "outputId": "be2ebc51-dda6-419e-d416-39025134a8c5"
      },
      "execution_count": 92,
      "outputs": [
        {
          "output_type": "stream",
          "name": "stdout",
          "text": [
            "{'owl', 'apple', 'mango'}\n"
          ]
        }
      ]
    },
    {
      "cell_type": "code",
      "source": [],
      "metadata": {
        "id": "bYb8pFArquKy"
      },
      "execution_count": null,
      "outputs": []
    }
  ]
}